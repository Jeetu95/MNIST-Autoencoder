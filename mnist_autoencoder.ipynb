{
 "cells": [
  {
   "cell_type": "code",
   "execution_count": 17,
   "metadata": {},
   "outputs": [
    {
     "name": "stdout",
     "output_type": "stream",
     "text": [
      "Tensorflow Version - 1.12.0\n",
      "Keras Version - 2.1.6-tf\n"
     ]
    }
   ],
   "source": [
    "import tensorflow as tf\n",
    "from keras.layers import Dense, Input, Dropout\n",
    "from keras.models import Model, load_model\n",
    "from keras.datasets import mnist\n",
    "from keras.callbacks import ReduceLROnPlateau, TensorBoard, ModelCheckpoint,LearningRateScheduler\n",
    "from keras.optimizers import Adam\n",
    "\n",
    "import numpy as np\n",
    "import matplotlib.pyplot as plt\n",
    "import cv2\n",
    "\n",
    "from time import time, sleep\n",
    "import os\n",
    "\n",
    "# Since I am using a dark backgroud. Comment it out if you are using a light theme\n",
    "plt.style.use(['dark_background'])\n",
    "\n",
    "#tensorboard --logdir=logs/ --host localhost --port 8088\n",
    "print(f'Tensorflow Version - {tf.__version__}')\n",
    "print(f'Keras Version - {tf.keras.__version__}')"
   ]
  },
  {
   "cell_type": "code",
   "execution_count": 2,
   "metadata": {},
   "outputs": [],
   "source": [
    "DATA_DIR = 'data'"
   ]
  },
  {
   "cell_type": "code",
   "execution_count": 3,
   "metadata": {
    "scrolled": true
   },
   "outputs": [
    {
     "name": "stdout",
     "output_type": "stream",
     "text": [
      "Training Data Shape : (60000, 784)\n",
      "Testing Data Shape  : (10000, 784)\n"
     ]
    }
   ],
   "source": [
    "def process_data():\n",
    "    (train,_),(test,_) = mnist.load_data(path =DATA_DIR)\n",
    "    train = train/255\n",
    "    test = test/255\n",
    "    train = train.reshape((len(train), np.prod(train.shape[1:])))\n",
    "    test = test.reshape((len(test), np.prod(test.shape[1:])))\n",
    "    print(f'Training Data Shape : {train.shape}')\n",
    "    print(f'Testing Data Shape  : {test.shape}')\n",
    "    return train,test\n",
    "X_train, X_test = process_data()"
   ]
  },
  {
   "cell_type": "code",
   "execution_count": 4,
   "metadata": {},
   "outputs": [],
   "source": [
    "def get_models():\n",
    "    tf.reset_default_graph()\n",
    "    \n",
    "    dropout_rate = 0.1\n",
    "    \n",
    "    input_layer = Input(shape=(784,),name='input_layer')\n",
    "    layer = Dense(512,name='encode_1',activation='relu')(input_layer)\n",
    "    layer = Dropout(dropout_rate)(layer)\n",
    "    layer = Dense(256,name='encode_2',activation='relu')(layer)\n",
    "    layer = Dropout(dropout_rate)(layer)\n",
    "    layer = Dense(128,name='encode_3',activation='relu')(layer)\n",
    "    layer = Dropout(dropout_rate)(layer)\n",
    "    layer = Dense(64,name='encode_4',activation='relu')(layer)\n",
    "    \n",
    "    bottleneck_layer = Dense(36,name='bottleneck_layer',activation='relu')(layer)\n",
    "    \n",
    "    layer = Dense(64,name='decode_1',activation='relu')(bottleneck_layer)\n",
    "    layer = Dropout(dropout_rate)(layer)\n",
    "    layer = Dense(128,name='decode_2',activation='relu')(layer)\n",
    "    layer = Dropout(dropout_rate)(layer)\n",
    "    layer = Dense(256,name='decode_3',activation='relu')(layer)\n",
    "    layer = Dropout(dropout_rate)(layer)\n",
    "    layer = Dense(512,name='decode_4',activation='relu')(layer)\n",
    "    layer = Dropout(dropout_rate)(layer)\n",
    "    output_layer = Dense(784,name='output_layer',activation='sigmoid')(layer)\n",
    "    \n",
    "    \n",
    "    autoencoder_model = Model(input_layer,output_layer)\n",
    "    encoder_model = Model(input_layer,bottleneck_layer)\n",
    "    return autoencoder_model,encoder_model"
   ]
  },
  {
   "cell_type": "code",
   "execution_count": 8,
   "metadata": {},
   "outputs": [
    {
     "name": "stdout",
     "output_type": "stream",
     "text": [
      "Structure of Autoencoder Model\n",
      "\n",
      "_________________________________________________________________\n",
      "Layer (type)                 Output Shape              Param #   \n",
      "=================================================================\n",
      "input_layer (InputLayer)     (None, 784)               0         \n",
      "_________________________________________________________________\n",
      "encode_1 (Dense)             (None, 512)               401920    \n",
      "_________________________________________________________________\n",
      "dropout_1 (Dropout)          (None, 512)               0         \n",
      "_________________________________________________________________\n",
      "encode_2 (Dense)             (None, 256)               131328    \n",
      "_________________________________________________________________\n",
      "dropout_2 (Dropout)          (None, 256)               0         \n",
      "_________________________________________________________________\n",
      "encode_3 (Dense)             (None, 128)               32896     \n",
      "_________________________________________________________________\n",
      "dropout_3 (Dropout)          (None, 128)               0         \n",
      "_________________________________________________________________\n",
      "encode_4 (Dense)             (None, 64)                8256      \n",
      "_________________________________________________________________\n",
      "bottleneck_layer (Dense)     (None, 36)                2340      \n",
      "_________________________________________________________________\n",
      "decode_1 (Dense)             (None, 64)                2368      \n",
      "_________________________________________________________________\n",
      "dropout_4 (Dropout)          (None, 64)                0         \n",
      "_________________________________________________________________\n",
      "decode_2 (Dense)             (None, 128)               8320      \n",
      "_________________________________________________________________\n",
      "dropout_5 (Dropout)          (None, 128)               0         \n",
      "_________________________________________________________________\n",
      "decode_3 (Dense)             (None, 256)               33024     \n",
      "_________________________________________________________________\n",
      "dropout_6 (Dropout)          (None, 256)               0         \n",
      "_________________________________________________________________\n",
      "decode_4 (Dense)             (None, 512)               131584    \n",
      "_________________________________________________________________\n",
      "dropout_7 (Dropout)          (None, 512)               0         \n",
      "_________________________________________________________________\n",
      "output_layer (Dense)         (None, 784)               402192    \n",
      "=================================================================\n",
      "Total params: 1,154,228\n",
      "Trainable params: 1,154,228\n",
      "Non-trainable params: 0\n",
      "_________________________________________________________________\n",
      "\n",
      "\n",
      "Structure of Encoder Model\n",
      "\n",
      "_________________________________________________________________\n",
      "Layer (type)                 Output Shape              Param #   \n",
      "=================================================================\n",
      "input_layer (InputLayer)     (None, 784)               0         \n",
      "_________________________________________________________________\n",
      "encode_1 (Dense)             (None, 512)               401920    \n",
      "_________________________________________________________________\n",
      "dropout_1 (Dropout)          (None, 512)               0         \n",
      "_________________________________________________________________\n",
      "encode_2 (Dense)             (None, 256)               131328    \n",
      "_________________________________________________________________\n",
      "dropout_2 (Dropout)          (None, 256)               0         \n",
      "_________________________________________________________________\n",
      "encode_3 (Dense)             (None, 128)               32896     \n",
      "_________________________________________________________________\n",
      "dropout_3 (Dropout)          (None, 128)               0         \n",
      "_________________________________________________________________\n",
      "encode_4 (Dense)             (None, 64)                8256      \n",
      "_________________________________________________________________\n",
      "bottleneck_layer (Dense)     (None, 36)                2340      \n",
      "=================================================================\n",
      "Total params: 576,740\n",
      "Trainable params: 576,740\n",
      "Non-trainable params: 0\n",
      "_________________________________________________________________\n"
     ]
    }
   ],
   "source": [
    "autoencoder,encoder = get_models()\n",
    "print('Structure of Autoencoder Model\\n')\n",
    "autoencoder.summary()\n",
    "print('\\n\\nStructure of Encoder Model\\n')\n",
    "encoder.summary()"
   ]
  },
  {
   "cell_type": "code",
   "execution_count": null,
   "metadata": {},
   "outputs": [],
   "source": [
    "BATCH_SIZE = 64\n",
    "LR = 0.001\n",
    "\n",
    "adam = Adam(lr=LR)\n",
    "autoencoder.compile(adam,'binary_crossentropy',metrics=['accuracy'])\n",
    "\n",
    "\n",
    "def get_scheduled_lr(epoch,lr):\n",
    "    if epoch ==15:\n",
    "        return lr*0.2\n",
    "    elif epoch==25:\n",
    "        return lr*0.3\n",
    "    elif epoch==35:\n",
    "        return lr*0.4\n",
    "    elif epoch==40:\n",
    "        return lr*0.5\n",
    "    return lr\n",
    "\n",
    "tensoboard = TensorBoard(log_dir='logs\\{}'.format(time()),batch_size=BATCH_SIZE,update_freq='epoch')\n",
    "save_model = ModelCheckpoint(filepath='saved_models/autoencoder-epoch_{epoch}.h5',\n",
    "                            monitor='loss',verbose=0)\n",
    "reduce_lr = ReduceLROnPlateau(monitor='loss',factor=0.3,patience=3,verbose=1,min_lr=0.000001)\n",
    "lr_scheduled = LearningRateScheduler(get_scheduled_lr,verbose=1)\n",
    "\n",
    "callbacks = [tensoboard,save_model,lr_scheduled]"
   ]
  },
  {
   "cell_type": "code",
   "execution_count": 11,
   "metadata": {},
   "outputs": [],
   "source": [
    "EPOCHS = 50\n",
    "hist = autoencoder.fit(X_train,X_train,batch_size=BATCH_SIZE,\n",
    "                       epochs=EPOCHS,verbose=2,callbacks=callbacks)"
   ]
  },
  {
   "cell_type": "code",
   "execution_count": 5,
   "metadata": {},
   "outputs": [],
   "source": [
    "def plot_result(original,created):\n",
    "    shape = int(np.sqrt(original.shape[0]))\n",
    "    original = np.reshape(original,(shape,shape))\n",
    "    created = np.reshape(created,(shape,shape))\n",
    "    \n",
    "    fig,axs = plt.subplots(nrows=1,ncols=2,sharex=True,sharey=True)\n",
    "    fig.set_size_inches((14,10))\n",
    "    \n",
    "    axs[0].set_title(\"Original Image\\n\",fontdict = {'fontsize':16})\n",
    "    axs[0].imshow(original,cmap = 'gray')\n",
    "    axs[0].set_axis_off()\n",
    "    \n",
    "    axs[1].set_title(\"Constructed Image\\n\",fontdict = {'fontsize':16})\n",
    "    axs[1].imshow(created,cmap = 'gray')\n",
    "    axs[1].set_axis_off()\n",
    "\n",
    "    plt.show()"
   ]
  },
  {
   "cell_type": "code",
   "execution_count": 6,
   "metadata": {},
   "outputs": [],
   "source": [
    "def random_result():\n",
    "    rand_idx = np.random.randint(0,len(X_test))\n",
    "    plot_result(X_test[rand_idx],autoencoder_prediction[rand_idx])"
   ]
  },
  {
   "cell_type": "code",
   "execution_count": 9,
   "metadata": {},
   "outputs": [],
   "source": [
    "autoencoder_prediction = autoencoder.predict(X_test)"
   ]
  },
  {
   "cell_type": "code",
   "execution_count": 10,
   "metadata": {},
   "outputs": [
    {
     "data": {
      "image/png": "[encoded data removed]",
      "text/plain": [
       "<Figure size 1008x720 with 2 Axes>"
      ]
     },
     "metadata": {
      "needs_background": "dark"
     },
     "output_type": "display_data"
    }
   ],
   "source": [
    "random_result()"
   ]
  },
  {
   "cell_type": "code",
   "execution_count": 19,
   "metadata": {},
   "outputs": [],
   "source": [
    "def plot_img(img):\n",
    "    img = img.reshape((28,28))\n",
    "    plt.figure(figsize=(6,6))\n",
    "    plt.imshow(img,cmap='gray')\n",
    "    plt.show()"
   ]
  },
  {
   "cell_type": "code",
   "execution_count": null,
   "metadata": {},
   "outputs": [],
   "source": [
    "img = X_test[0]\n",
    "img.shape"
   ]
  },
  {
   "cell_type": "code",
   "execution_count": null,
   "metadata": {},
   "outputs": [],
   "source": [
    "plot_img(img)"
   ]
  },
  {
   "cell_type": "code",
   "execution_count": null,
   "metadata": {},
   "outputs": [],
   "source": [
    "noisy_img = img * 255\n",
    "noisy_img = img + np.random.normal(0.05,0.05,img.shape)\n",
    "noisy_img = np.clip(noisy_img,0,255)\n",
    "noisy_img = noisy_img /255\n",
    "plot_img(noisy_img)"
   ]
  },
  {
   "cell_type": "code",
   "execution_count": null,
   "metadata": {},
   "outputs": [],
   "source": [
    "noise_data = np.array([noisy_img])\n",
    "noise_pred = autoencoder.predict(noise_data)"
   ]
  },
  {
   "cell_type": "code",
   "execution_count": null,
   "metadata": {},
   "outputs": [],
   "source": [
    "plot_img(noise_pred[0])"
   ]
  },
  {
   "cell_type": "markdown",
   "metadata": {},
   "source": [
    "## Series of images"
   ]
  },
  {
   "cell_type": "code",
   "execution_count": null,
   "metadata": {},
   "outputs": [
    {
     "name": "stdout",
     "output_type": "stream",
     "text": [
      "Loading Model for Epoch 1\n",
      "image 1 saved.\n",
      "Loading Model for Epoch 2\n",
      "image 2 saved.\n",
      "Loading Model for Epoch 3\n",
      "image 3 saved.\n",
      "Loading Model for Epoch 4\n",
      "image 4 saved.\n",
      "Loading Model for Epoch 5\n",
      "image 5 saved.\n",
      "Loading Model for Epoch 6\n",
      "image 6 saved.\n",
      "Loading Model for Epoch 7\n",
      "image 7 saved.\n",
      "Loading Model for Epoch 8\n",
      "image 8 saved.\n",
      "Loading Model for Epoch 9\n",
      "image 9 saved.\n",
      "Loading Model for Epoch 10\n",
      "image 10 saved.\n",
      "Loading Model for Epoch 11\n",
      "image 11 saved.\n",
      "Loading Model for Epoch 12\n",
      "image 12 saved.\n",
      "Loading Model for Epoch 13\n",
      "image 13 saved.\n",
      "Loading Model for Epoch 14\n",
      "image 14 saved.\n",
      "Loading Model for Epoch 15\n",
      "image 15 saved.\n",
      "Loading Model for Epoch 16\n",
      "image 16 saved.\n",
      "Loading Model for Epoch 17\n"
     ]
    }
   ],
   "source": [
    "for epoch in range(1,EPOCHS+1):\n",
    "    print(f'Loading Model for Epoch {epoch}')\n",
    "    saved_model = load_model(os.path.join('saved_models','autoencoder-epoch_{}.h5'.format(epoch)))\n",
    "    pred = saved_model.predict(X_test)\n",
    "    img = pred[0].reshape((28,28))\n",
    "    plt.imshow(img,cmap='gray')\n",
    "    plt.savefig('images\\epoch-{}.png'.format(epoch),dpi=200)\n",
    "    plt.close()\n",
    "    #cv2.imwrite('images\\epoch-{}.png'.format(epoch),img)\n",
    "    print(f'image {epoch} saved.')\n",
    "    del saved_model"
   ]
  },
  {
   "cell_type": "code",
   "execution_count": null,
   "metadata": {},
   "outputs": [],
   "source": []
  },
  {
   "cell_type": "code",
   "execution_count": 16,
   "metadata": {},
   "outputs": [],
   "source": []
  },
  {
   "cell_type": "code",
   "execution_count": null,
   "metadata": {},
   "outputs": [],
   "source": []
  }
 ],
 "metadata": {
  "kernelspec": {
   "display_name": "Python 3",
   "language": "python",
   "name": "python3"
  },
  "language_info": {
   "codemirror_mode": {
    "name": "ipython",
    "version": 3
   },
   "file_extension": ".py",
   "mimetype": "text/x-python",
   "name": "python",
   "nbconvert_exporter": "python",
   "pygments_lexer": "ipython3",
   "version": "3.6.7"
  }
 },
 "nbformat": 4,
 "nbformat_minor": 2
}
