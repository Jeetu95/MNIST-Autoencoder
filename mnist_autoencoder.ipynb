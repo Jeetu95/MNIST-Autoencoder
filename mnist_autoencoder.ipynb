{
 "cells": [
  {
   "cell_type": "markdown",
   "metadata": {},
   "source": [
    "# Autoencoder generating MNIST Data.\n",
    "This notebook demonstrates the generation of autoencoder data on MNIST datasets.\n",
    "<br>\n",
    "We are going to use two data sets here. To know more about the datasets vist the links given :- \n",
    "  - MNIST Handwritten Digits - [link](http://yann.lecun.com/exdb/mnist/)\n",
    "  - MNIST Fashion            - [link](https://github.com/zalandoresearch/fashion-mnist)\n",
    "\n",
    "We are only using Neural Network based architecture here. In future work I tend to implement a CovNet based architecture. In this notebook we are also going to discuss the activations in the bottleneck layer.<br><br>\n",
    "##### This is the basic structure of the architecture used here.\n",
    "![autoencoder architecture](images/autoencoder.jpg)\n"
   ]
  },
  {
   "cell_type": "markdown",
   "metadata": {},
   "source": [
    "## Required Imports"
   ]
  },
  {
   "cell_type": "code",
   "execution_count": 1,
   "metadata": {},
   "outputs": [
    {
     "name": "stderr",
     "output_type": "stream",
     "text": [
      "Using TensorFlow backend.\n"
     ]
    },
    {
     "name": "stdout",
     "output_type": "stream",
     "text": [
      "Tensorflow Version - 1.12.0\n",
      "Keras Version - 2.2.4\n"
     ]
    }
   ],
   "source": [
    "import tensorflow as tf\n",
    "import keras\n",
    "from keras.layers import Dense, Input, Dropout\n",
    "from keras.models import Model, load_model\n",
    "from keras.datasets import mnist, fashion_mnist\n",
    "from keras.callbacks import TensorBoard, ModelCheckpoint, EarlyStopping\n",
    "from keras.optimizers import Adam\n",
    "\n",
    "import numpy as np\n",
    "import matplotlib.pyplot as plt\n",
    "import matplotlib.gridspec as gridspec\n",
    "\n",
    "from time import time\n",
    "import os\n",
    "\n",
    "# Since I am using a dark backgroud. Comment it out if you are using a light theme\n",
    "#plt.style.use(['dark_background'])\n",
    "\n",
    "# tensorboard --logdir=logs/ --host localhost --port 8088\n",
    "print(f'Tensorflow Version - {tf.__version__}')\n",
    "print(f'Keras Version - {keras.__version__}')"
   ]
  },
  {
   "cell_type": "markdown",
   "metadata": {},
   "source": [
    "## Some project oriented values"
   ]
  },
  {
   "cell_type": "code",
   "execution_count": 2,
   "metadata": {},
   "outputs": [],
   "source": [
    "DATASET = 'fashion'\n",
    "MODEL_NAME = f'FCCN_{DATASET}_autoencoder'\n",
    "MODEL_CHECKPOINT_PATH = f'saved_models/checkpoint/{MODEL_NAME}_epoch-'\n",
    "MODEL_PATH = f'saved_models/{MODEL_NAME}.h5'"
   ]
  },
  {
   "cell_type": "markdown",
   "metadata": {},
   "source": [
    "## Architecture of the model used in this project"
   ]
  },
  {
   "cell_type": "code",
   "execution_count": 3,
   "metadata": {},
   "outputs": [],
   "source": [
    "def get_models(saved = True):\n",
    "    \"\"\"This method returns the autoencoder model and the encoder model.\n",
    "    Returns a saved model if MODEL_NAME is found.\n",
    "    Fully Connected Neural Network Autoencoder Architecture (FCCN Autoencoder)\n",
    "    \n",
    "    Keyword Arguments:\n",
    "    saved - Get the saved model from the MODEL_PATH if exists.(default True)\n",
    "    \n",
    "    Returns:\n",
    "    autoencoder_model - Uncompiled Keras model for autoencoder network\n",
    "    encoder_model     - Uncompiled Keras model for encoder network for \n",
    "                        future activation map visualization.\n",
    "    \"\"\"\n",
    "    tf.reset_default_graph()\n",
    "    \n",
    "    if os.path.isfile(MODEL_PATH) and saved:\n",
    "        print(\"Loading saved model {}\".format(MODEL_NAME))\n",
    "        autoencoder_model = load_model(MODEL_PATH)\n",
    "        \n",
    "        input_layer = Input(shape=(784,),name='input_layer')\n",
    "        output_layer = input_layer\n",
    "        layers_list = autoencoder_model.layers\n",
    "\n",
    "        index  = 1\n",
    "        while True:\n",
    "            #print(f'Layer Index {index}')\n",
    "            layer = layers_list[index]\n",
    "            output_layer = layer (output_layer)\n",
    "            index +=1\n",
    "            if layer.name == 'bottleneck_layer':\n",
    "                break\n",
    "        encoder_model = Model(input_layer,output_layer)\n",
    "        \n",
    "        return autoencoder_model,encoder_model\n",
    "    \n",
    "    \n",
    "    dropout_rate = 0.07\n",
    "    input_layer = Input(shape=(784,),name='input_layer')\n",
    "    layer = Dense(512,name='encode_1',activation='relu')(input_layer)\n",
    "    layer = Dropout(dropout_rate)(layer)\n",
    "    layer = Dense(256,name='encode_2',activation='relu')(layer)\n",
    "    layer = Dropout(dropout_rate)(layer)\n",
    "    layer = Dense(128,name='encode_3',activation='relu')(layer)\n",
    "    layer = Dropout(dropout_rate)(layer)\n",
    "    layer = Dense(64,name='encode_4',activation='relu')(layer)\n",
    "    \n",
    "    bottleneck_layer = Dense(36,name='bottleneck_layer',activation='relu')(layer)\n",
    "    \n",
    "    layer = Dense(64,name='decode_1',activation='relu')(bottleneck_layer)\n",
    "    layer = Dropout(dropout_rate)(layer)\n",
    "    layer = Dense(128,name='decode_2',activation='relu')(layer)\n",
    "    layer = Dropout(dropout_rate)(layer)\n",
    "    layer = Dense(256,name='decode_3',activation='relu')(layer)\n",
    "    layer = Dropout(dropout_rate)(layer)\n",
    "    layer = Dense(512,name='decode_4',activation='relu')(layer)\n",
    "    layer = Dropout(dropout_rate)(layer)\n",
    "    output_layer = Dense(784,name='output_layer',activation='sigmoid')(layer)\n",
    "    \n",
    "    \n",
    "    autoencoder_model = Model(input_layer,output_layer)\n",
    "    encoder_model = Model(input_layer,bottleneck_layer)\n",
    "    return autoencoder_model,encoder_model"
   ]
  },
  {
   "cell_type": "markdown",
   "metadata": {},
   "source": [
    "## Utility Functions"
   ]
  },
  {
   "cell_type": "code",
   "execution_count": 4,
   "metadata": {
    "scrolled": true
   },
   "outputs": [
    {
     "name": "stdout",
     "output_type": "stream",
     "text": [
      "Loading MNIST Fashion Dataset\n",
      "Training Data Shape : (60000, 784)\n",
      "Testing Data Shape  : (10000, 784)\n"
     ]
    }
   ],
   "source": [
    "def process_data(data_type = 'digit'):\n",
    "    \"\"\"This method returns the train and test data.\n",
    "    \n",
    "    Keyword Arguments:\n",
    "    data_type - Name of the dataset used.(default 'digit')\n",
    "                'digit' - MNIST Digits Dataset\n",
    "                'fashion' - MNIST Fashion Dataset\n",
    "    \n",
    "    Returns:\n",
    "    train,test - The training and testing data for respective datasets.\n",
    "    \"\"\"\n",
    "    train,test = None, None\n",
    "    if data_type == 'digit':\n",
    "        print('Loading MNIST Digit Dataset')\n",
    "        (train,_),(test,_) = mnist.load_data()\n",
    "    elif data_type == 'fashion' :\n",
    "        print('Loading MNIST Fashion Dataset')\n",
    "        (train,_),(test,_) = fashion_mnist.load_data()\n",
    "    train = train/255\n",
    "    test = test/255\n",
    "    train = train.reshape((len(train), np.prod(train.shape[1:])))\n",
    "    test = test.reshape((len(test), np.prod(test.shape[1:])))\n",
    "    print(f'Training Data Shape : {train.shape}')\n",
    "    print(f'Testing Data Shape  : {test.shape}')\n",
    "    return train,test\n",
    "\n",
    "X_train, X_test = process_data(data_type=DATASET)"
   ]
  },
  {
   "cell_type": "code",
   "execution_count": 5,
   "metadata": {},
   "outputs": [],
   "source": [
    "def plot_result(original,activation,created):\n",
    "    \"\"\"This method plots the original image,activation map of the bottleneck layer\n",
    "    and reconstructed image.\n",
    "    \n",
    "    Keyword Arguments:\n",
    "    original   - Numpy array of the original data (shape = (784,))\n",
    "    activation - Numpy array of the activation map data (shape = (36,))\n",
    "    created    -  Numpy array of the reconstructed data (shape = (784,))\n",
    "    \n",
    "    \"\"\"\n",
    "    shape = int(np.sqrt(original.shape[0]))\n",
    "    map_shape = int(np.sqrt(activation.shape[0]))\n",
    "    \n",
    "    original = np.reshape(original,(shape,shape))\n",
    "    activation = np.reshape(activation,(map_shape,map_shape))\n",
    "    created = np.reshape(created,(shape,shape))\n",
    "    \n",
    "    plt.figure(figsize=(14,10))\n",
    "    \n",
    "    gs = gridspec.GridSpec(4, 8)\n",
    "    gs.update(wspace=0.5)\n",
    "    ax1 = plt.subplot(gs[:2, :4], )\n",
    "    ax2 = plt.subplot(gs[:2, 4:])\n",
    "    ax3 = plt.subplot(gs[2:, 2:6])\n",
    "    \n",
    "    ax1.set_title(\"Original Image\\n\",fontdict = {'fontsize':16})\n",
    "    ax1.imshow(original,cmap = 'gray')\n",
    "    ax1.set_axis_off()\n",
    "    \n",
    "    ax2.set_title(\"Re-Constructed Image\\n\",fontdict = {'fontsize':16})\n",
    "    ax2.imshow(created,cmap = 'gray')\n",
    "    ax2.set_axis_off()\n",
    "    \n",
    "    ax3.set_title(\"\\nActivation Map of\\n Bottleneck Layer\",fontdict = {'fontsize':16})\n",
    "    ax3.imshow(activation,cmap = 'gray')\n",
    "    ax3.set_axis_off()\n",
    "\n",
    "    plt.show()"
   ]
  },
  {
   "cell_type": "code",
   "execution_count": 6,
   "metadata": {},
   "outputs": [],
   "source": [
    "def random_result():\n",
    "    \"\"\"This method picks up a random datapoint from testing data and plots the result image.\n",
    "    Result image consists of Orginal Image, Re-Constructed Image and \n",
    "    Activation Map of Bottleneck Layer\"\"\"\n",
    "    rand_idx = np.random.randint(0,len(X_test))\n",
    "    plot_result(X_test[rand_idx],activation_map[rand_idx],autoencoder_prediction[rand_idx])"
   ]
  },
  {
   "cell_type": "markdown",
   "metadata": {},
   "source": [
    "## Fetching the model"
   ]
  },
  {
   "cell_type": "code",
   "execution_count": 7,
   "metadata": {},
   "outputs": [
    {
     "name": "stdout",
     "output_type": "stream",
     "text": [
      "Structure of Autoencoder Model\n",
      "\n",
      "_________________________________________________________________\n",
      "Layer (type)                 Output Shape              Param #   \n",
      "=================================================================\n",
      "input_layer (InputLayer)     (None, 784)               0         \n",
      "_________________________________________________________________\n",
      "encode_1 (Dense)             (None, 512)               401920    \n",
      "_________________________________________________________________\n",
      "dropout_1 (Dropout)          (None, 512)               0         \n",
      "_________________________________________________________________\n",
      "encode_2 (Dense)             (None, 256)               131328    \n",
      "_________________________________________________________________\n",
      "dropout_2 (Dropout)          (None, 256)               0         \n",
      "_________________________________________________________________\n",
      "encode_3 (Dense)             (None, 128)               32896     \n",
      "_________________________________________________________________\n",
      "dropout_3 (Dropout)          (None, 128)               0         \n",
      "_________________________________________________________________\n",
      "encode_4 (Dense)             (None, 64)                8256      \n",
      "_________________________________________________________________\n",
      "bottleneck_layer (Dense)     (None, 36)                2340      \n",
      "_________________________________________________________________\n",
      "decode_1 (Dense)             (None, 64)                2368      \n",
      "_________________________________________________________________\n",
      "dropout_4 (Dropout)          (None, 64)                0         \n",
      "_________________________________________________________________\n",
      "decode_2 (Dense)             (None, 128)               8320      \n",
      "_________________________________________________________________\n",
      "dropout_5 (Dropout)          (None, 128)               0         \n",
      "_________________________________________________________________\n",
      "decode_3 (Dense)             (None, 256)               33024     \n",
      "_________________________________________________________________\n",
      "dropout_6 (Dropout)          (None, 256)               0         \n",
      "_________________________________________________________________\n",
      "decode_4 (Dense)             (None, 512)               131584    \n",
      "_________________________________________________________________\n",
      "dropout_7 (Dropout)          (None, 512)               0         \n",
      "_________________________________________________________________\n",
      "output_layer (Dense)         (None, 784)               402192    \n",
      "=================================================================\n",
      "Total params: 1,154,228\n",
      "Trainable params: 1,154,228\n",
      "Non-trainable params: 0\n",
      "_________________________________________________________________\n"
     ]
    }
   ],
   "source": [
    "autoencoder,encoder = get_models()\n",
    "print('Structure of Autoencoder Model\\n')\n",
    "autoencoder.summary()"
   ]
  },
  {
   "cell_type": "code",
   "execution_count": 8,
   "metadata": {},
   "outputs": [
    {
     "name": "stdout",
     "output_type": "stream",
     "text": [
      "Structure of Encoder Model\n",
      "\n",
      "_________________________________________________________________\n",
      "Layer (type)                 Output Shape              Param #   \n",
      "=================================================================\n",
      "input_layer (InputLayer)     (None, 784)               0         \n",
      "_________________________________________________________________\n",
      "encode_1 (Dense)             (None, 512)               401920    \n",
      "_________________________________________________________________\n",
      "dropout_1 (Dropout)          (None, 512)               0         \n",
      "_________________________________________________________________\n",
      "encode_2 (Dense)             (None, 256)               131328    \n",
      "_________________________________________________________________\n",
      "dropout_2 (Dropout)          (None, 256)               0         \n",
      "_________________________________________________________________\n",
      "encode_3 (Dense)             (None, 128)               32896     \n",
      "_________________________________________________________________\n",
      "dropout_3 (Dropout)          (None, 128)               0         \n",
      "_________________________________________________________________\n",
      "encode_4 (Dense)             (None, 64)                8256      \n",
      "_________________________________________________________________\n",
      "bottleneck_layer (Dense)     (None, 36)                2340      \n",
      "=================================================================\n",
      "Total params: 576,740\n",
      "Trainable params: 576,740\n",
      "Non-trainable params: 0\n",
      "_________________________________________________________________\n"
     ]
    }
   ],
   "source": [
    "print('Structure of Encoder Model\\n')\n",
    "encoder.summary()"
   ]
  },
  {
   "cell_type": "markdown",
   "metadata": {},
   "source": [
    "## Training Hyperparametrs"
   ]
  },
  {
   "cell_type": "code",
   "execution_count": 13,
   "metadata": {},
   "outputs": [],
   "source": [
    "BATCH_SIZE = 64\n",
    "LR = 0.0003\n",
    "EPOCHS = 40"
   ]
  },
  {
   "cell_type": "code",
   "execution_count": 14,
   "metadata": {},
   "outputs": [],
   "source": [
    "# Optimizer (Adam Optimizer)\n",
    "adam = Adam(lr=LR)\n",
    "\n",
    "# Making of missing directories.\n",
    "if os.path.isdir('saved_models/') == False:\n",
    "    os.makedirs('saved_models/')\n",
    "if os.path.isdir('saved_models/checkpoint/') == False:\n",
    "    os.makedirs('saved_models/checkpoint/')\n",
    "\n",
    "# Declaring all the callbacks required.\n",
    "tensoboard = TensorBoard(log_dir='logs\\{}'.format(time()),batch_size=BATCH_SIZE,update_freq='epoch')\n",
    "save_model = ModelCheckpoint(filepath=MODEL_CHECKPOINT_PATH+'{epoch}.h5',monitor='loss')\n",
    "early_stop = EarlyStopping(monitor='loss',patience=3,verbose=1,restore_best_weights=True)\n",
    "\n",
    "callbacks = [tensoboard,save_model,early_stop]\n",
    "\n",
    "# Model Compilation\n",
    "autoencoder.compile(optimizer=adam,loss='binary_crossentropy',metrics=['accuracy'])"
   ]
  },
  {
   "cell_type": "markdown",
   "metadata": {},
   "source": [
    "## Start Training"
   ]
  },
  {
   "cell_type": "code",
   "execution_count": 15,
   "metadata": {},
   "outputs": [
    {
     "name": "stdout",
     "output_type": "stream",
     "text": [
      "Epoch 1/40\n",
      " - 8s - loss: 0.3636 - acc: 0.4935\n",
      "Epoch 2/40\n",
      " - 7s - loss: 0.3191 - acc: 0.5022\n",
      "Epoch 3/40\n",
      " - 8s - loss: 0.3127 - acc: 0.5032\n",
      "Epoch 4/40\n",
      " - 7s - loss: 0.3086 - acc: 0.5038\n",
      "Epoch 5/40\n",
      " - 7s - loss: 0.3055 - acc: 0.5044\n",
      "Epoch 6/40\n",
      " - 7s - loss: 0.3033 - acc: 0.5046\n",
      "Epoch 7/40\n",
      " - 7s - loss: 0.3015 - acc: 0.5049\n",
      "Epoch 8/40\n",
      " - 7s - loss: 0.3000 - acc: 0.5050\n",
      "Epoch 9/40\n",
      " - 7s - loss: 0.2987 - acc: 0.5052\n",
      "Epoch 10/40\n",
      " - 8s - loss: 0.2977 - acc: 0.5053\n",
      "Epoch 11/40\n",
      " - 7s - loss: 0.2968 - acc: 0.5055\n",
      "Epoch 12/40\n",
      " - 7s - loss: 0.2960 - acc: 0.5056\n",
      "Epoch 13/40\n",
      " - 7s - loss: 0.2952 - acc: 0.5057\n",
      "Epoch 14/40\n",
      " - 8s - loss: 0.2945 - acc: 0.5058\n",
      "Epoch 15/40\n",
      " - 7s - loss: 0.2940 - acc: 0.5059\n",
      "Epoch 16/40\n",
      " - 7s - loss: 0.2934 - acc: 0.5060\n",
      "Epoch 17/40\n",
      " - 7s - loss: 0.2928 - acc: 0.5060\n",
      "Epoch 18/40\n",
      " - 7s - loss: 0.2923 - acc: 0.5061\n",
      "Epoch 19/40\n",
      " - 7s - loss: 0.2919 - acc: 0.5062\n",
      "Epoch 20/40\n",
      " - 7s - loss: 0.2916 - acc: 0.5062\n",
      "Epoch 21/40\n",
      " - 7s - loss: 0.2912 - acc: 0.5063\n",
      "Epoch 22/40\n",
      " - 7s - loss: 0.2909 - acc: 0.5063\n",
      "Epoch 23/40\n",
      " - 7s - loss: 0.2906 - acc: 0.5063\n",
      "Epoch 24/40\n",
      " - 7s - loss: 0.2903 - acc: 0.5064\n",
      "Epoch 25/40\n",
      " - 7s - loss: 0.2900 - acc: 0.5064\n",
      "Epoch 26/40\n",
      " - 7s - loss: 0.2899 - acc: 0.5064\n",
      "Epoch 27/40\n",
      " - 7s - loss: 0.2895 - acc: 0.5065\n",
      "Epoch 28/40\n",
      " - 7s - loss: 0.2893 - acc: 0.5065\n",
      "Epoch 29/40\n",
      " - 7s - loss: 0.2890 - acc: 0.5065\n",
      "Epoch 30/40\n",
      " - 7s - loss: 0.2888 - acc: 0.5066\n",
      "Epoch 31/40\n",
      " - 7s - loss: 0.2886 - acc: 0.5066\n",
      "Epoch 32/40\n",
      " - 7s - loss: 0.2885 - acc: 0.5066\n",
      "Epoch 33/40\n",
      " - 7s - loss: 0.2882 - acc: 0.5067\n",
      "Epoch 34/40\n",
      " - 7s - loss: 0.2880 - acc: 0.5067\n",
      "Epoch 35/40\n",
      " - 7s - loss: 0.2878 - acc: 0.5067\n",
      "Epoch 36/40\n",
      " - 7s - loss: 0.2877 - acc: 0.5067\n",
      "Epoch 37/40\n",
      " - 7s - loss: 0.2875 - acc: 0.5067\n",
      "Epoch 38/40\n",
      " - 7s - loss: 0.2875 - acc: 0.5067\n",
      "Epoch 39/40\n",
      " - 8s - loss: 0.2873 - acc: 0.5068\n",
      "Epoch 40/40\n",
      " - 8s - loss: 0.2873 - acc: 0.5067\n"
     ]
    }
   ],
   "source": [
    "hist = autoencoder.fit(X_train,X_train,batch_size=BATCH_SIZE,\n",
    "                       epochs=EPOCHS,verbose=2,callbacks=callbacks)\n",
    "autoencoder.save(MODEL_PATH)"
   ]
  },
  {
   "cell_type": "markdown",
   "metadata": {},
   "source": [
    "## Results"
   ]
  },
  {
   "cell_type": "code",
   "execution_count": 16,
   "metadata": {},
   "outputs": [],
   "source": [
    "autoencoder_prediction = autoencoder.predict(X_test)\n",
    "activation_map = encoder.predict(X_test)"
   ]
  },
  {
   "cell_type": "code",
   "execution_count": 40,
   "metadata": {},
   "outputs": [
    {
     "data": {
      "image/png": "[encoded data removed]",
      "text/plain": [
       "<Figure size 1008x720 with 3 Axes>"
      ]
     },
     "metadata": {
      "needs_background": "light"
     },
     "output_type": "display_data"
    }
   ],
   "source": [
    "# For MNIST Fashion\n",
    "random_result()"
   ]
  },
  {
   "cell_type": "code",
   "execution_count": 22,
   "metadata": {
    "scrolled": true
   },
   "outputs": [
    {
     "data": {
      "image/png": "[encoded data removed]",
      "text/plain": [
       "<Figure size 1008x720 with 3 Axes>"
      ]
     },
     "metadata": {
      "needs_background": "light"
     },
     "output_type": "display_data"
    }
   ],
   "source": [
    "# For MNIST Handwritten Digits\n",
    "#random_result()"
   ]
  },
  {
   "cell_type": "markdown",
   "metadata": {},
   "source": [
    "## Final Verdict\n",
    "These graphs are form Tensorboard.\n",
    "<br>\n",
    "\n",
    " ### MNIST Handwritten Digits\n",
    "   - Final Loss - 0.1338\n",
    "   ![loss graph](images/loss-digit.png)\n",
    "<br>\n",
    "   - Final Accuracy - 0.8069\n",
    "   ![accuracy graph](images/acc-digit.png)\n",
    "    \n",
    "<br><br>\n",
    "\n",
    "### MNIST Fashion\n",
    "   - Final Loss - 0.2873\n",
    "   ![loss graph](images/loss-fashion.png)\n",
    "<br>\n",
    "   - Final Accuracy - 0.5067\n",
    "   ![accuracy graph](images/acc-fashion.png)"
   ]
  },
  {
   "cell_type": "code",
   "execution_count": null,
   "metadata": {},
   "outputs": [],
   "source": []
  }
 ],
 "metadata": {
  "kernelspec": {
   "display_name": "Python 3",
   "language": "python",
   "name": "python3"
  },
  "language_info": {
   "codemirror_mode": {
    "name": "ipython",
    "version": 3
   },
   "file_extension": ".py",
   "mimetype": "text/x-python",
   "name": "python",
   "nbconvert_exporter": "python",
   "pygments_lexer": "ipython3",
   "version": "3.6.7"
  }
 },
 "nbformat": 4,
 "nbformat_minor": 2
}
